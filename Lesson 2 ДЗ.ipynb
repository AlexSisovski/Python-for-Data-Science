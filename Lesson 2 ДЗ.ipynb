{
 "cells": [
  {
   "cell_type": "code",
   "execution_count": 1,
   "metadata": {},
   "outputs": [
    {
     "name": "stdout",
     "output_type": "stream",
     "text": [
      "ТОП-5 самых дорогих книг:\n",
      "    autor_id  autor_name         book_title  price\n",
      "3         2       Чехов   Толстый и тонкий    500\n",
      "0         1    Тургенев        Отцы и дети    450\n",
      "4         2       Чехов    Дама с собачкой    450\n",
      "5         3  Островский              Гроза    370\n",
      "2         1    Тургенев  Дворянское гнездо    350\n"
     ]
    }
   ],
   "source": [
    "import pandas as pd\n",
    "import numpy as np\n",
    "\n",
    "autors = pd.DataFrame({'autor_id': [1, 2, 3], 'autor_name': ['Тургенев','Чехов','Островский']})\n",
    "\n",
    "book = pd.DataFrame({'autor_id': [1, 1, 1, 2, 2, 3, 3], 'book_title': ['Отцы и дети', 'Рудин',\n",
    "                    'Дворянское гнездо', 'Толстый и тонкий', 'Дама с собачкой', 'Гроза',\n",
    "                    'Таланты и поклонники'],'price':[450, 300, 350, 500, 450, 370, 290]})\n",
    "\n",
    "autors_price = pd.merge(autors, book, on = 'autor_id', how = 'inner')\n",
    "autors_price = autors_price.sort_values(by = 'price', ascending = False)\n",
    "top5 = autors_price.head(5)\n",
    "print('ТОП-5 самых дорогих книг:\\n', top5)"
   ]
  },
  {
   "cell_type": "code",
   "execution_count": 2,
   "metadata": {},
   "outputs": [
    {
     "name": "stdout",
     "output_type": "stream",
     "text": [
      "            max_price  min_price  mean_price\n",
      "autor_name                                  \n",
      "Островский        370        290         330\n",
      "Тургенев          450        300         366\n",
      "Чехов             500        450         475\n"
     ]
    }
   ],
   "source": [
    "p_max = autors_price.groupby('autor_name').agg({'price': 'max'})\n",
    "p_min = autors_price.groupby('autor_name').agg({'price': 'min'})\n",
    "p_mean = autors_price.groupby('autor_name').agg({'price': 'mean'})\n",
    "\n",
    "p_max = p_max.rename(columns={'price':'max_price'})\n",
    "p_min = p_min.rename(columns={'price':'min_price'})\n",
    "p_mean = p_mean.rename(columns={'price':'mean_price'})\n",
    "p_mean = p_mean.astype({'mean_price': int})\n",
    "\n",
    "autors_stat = pd.merge(p_max, p_min, on = 'autor_name', how = 'inner')\n",
    "autors_stat = pd.merge(autors_stat, p_mean, on = 'autor_name', how = 'inner')\n",
    "print(autors_stat)"
   ]
  },
  {
   "cell_type": "code",
   "execution_count": 3,
   "metadata": {},
   "outputs": [
    {
     "name": "stdout",
     "output_type": "stream",
     "text": [
      "   autor_id  autor_name            book_title  price    cover\n",
      "3         2       Чехов      Толстый и тонкий    500  твердая\n",
      "0         1    Тургенев           Отцы и дети    450   мягкая\n",
      "4         2       Чехов       Дама с собачкой    450   мягкая\n",
      "5         3  Островский                 Гроза    370  твердая\n",
      "2         1    Тургенев     Дворянское гнездо    350  твердая\n",
      "1         1    Тургенев                 Рудин    300   мягкая\n",
      "6         3  Островский  Таланты и поклонники    290   мягкая\n"
     ]
    }
   ],
   "source": [
    "autors_price['cover'] = ['твердая', 'мягкая', 'мягкая', 'твердая', 'твердая', 'мягкая', 'мягкая']\n",
    "print(autors_price)"
   ]
  },
  {
   "cell_type": "code",
   "execution_count": 4,
   "metadata": {},
   "outputs": [
    {
     "name": "stdout",
     "output_type": "stream",
     "text": [
      "cover       мягкая  твердая\n",
      "autor_name                 \n",
      "Островский     290      370\n",
      "Тургенев       750      350\n",
      "Чехов          450      500\n"
     ]
    }
   ],
   "source": [
    "book_info = pd.pivot_table(autors_price, values='price', index=['autor_name'], columns=['cover'], aggfunc=sum)\n",
    "print(book_info)"
   ]
  },
  {
   "cell_type": "code",
   "execution_count": 18,
   "metadata": {},
   "outputs": [
    {
     "name": "stdout",
     "output_type": "stream",
     "text": [
      "cover       мягкая  твердая\n",
      "autor_name                 \n",
      "Островский    True     True\n",
      "Тургенев      True     True\n",
      "Чехов         True     True\n"
     ]
    }
   ],
   "source": [
    "book_info.to_pickle('book_info.pkl')\n",
    "book_info2 = pd.read_pickle('book_info.pkl')\n",
    "print(book_info == book_info2)"
   ]
  },
  {
   "cell_type": "code",
   "execution_count": 53,
   "metadata": {},
   "outputs": [
    {
     "name": "stdout",
     "output_type": "stream",
     "text": [
      "[[ 1  6]\n",
      " [ 2  8]\n",
      " [ 3 11]\n",
      " [ 3 10]\n",
      " [ 1  7]]\n"
     ]
    }
   ],
   "source": [
    "#  столбец — это признак, а строка — наблюдение.\n",
    "a = np.array([[1, 6],\n",
    "              [2, 8],\n",
    "              [3, 11],\n",
    "              [3, 10],\n",
    "              [1, 7]])\n",
    "print(a)"
   ]
  },
  {
   "cell_type": "code",
   "execution_count": 54,
   "metadata": {},
   "outputs": [
    {
     "name": "stdout",
     "output_type": "stream",
     "text": [
      "[2.  8.4]\n"
     ]
    }
   ],
   "source": [
    "mean_a = np.mean(a, axis=0)\n",
    "print(mean_a)"
   ]
  },
  {
   "cell_type": "code",
   "execution_count": 55,
   "metadata": {},
   "outputs": [
    {
     "name": "stdout",
     "output_type": "stream",
     "text": [
      "[[-1.  -2.4]\n",
      " [ 0.  -0.4]\n",
      " [ 1.   2.6]\n",
      " [ 1.   1.6]\n",
      " [-1.  -1.4]]\n"
     ]
    }
   ],
   "source": [
    "# Вычислите массив a_centered, отняв от значений массива а \n",
    "# средние значения соответствующих признаков, содержащиеся в массиве mean_a.\n",
    "# Вычисление должно производиться в одно действие.\n",
    "# Получившийся массив должен иметь размер 5x2.\n",
    "a_centered = np.array([[a[0, 0]-mean_a[0], a[0, 1]-mean_a[1]],\n",
    "                       [a[1, 0]-mean_a[0], a[1, 1]-mean_a[1]],\n",
    "                       [a[2, 0]-mean_a[0], a[2, 1]-mean_a[1]],\n",
    "                       [a[3, 0]-mean_a[0], a[3, 1]-mean_a[1]],\n",
    "                       [a[4, 0]-mean_a[0], a[4, 1]-mean_a[1]]])\n",
    "\n",
    "print(a_centered)"
   ]
  },
  {
   "cell_type": "code",
   "execution_count": 56,
   "metadata": {},
   "outputs": [
    {
     "name": "stdout",
     "output_type": "stream",
     "text": [
      "2.0\n"
     ]
    }
   ],
   "source": [
    "# Найдите скалярное произведение столбцов массива a_centered.\n",
    "# В результате должна получиться величина a_centered_sp. \n",
    "# Затем поделите a_centered_sp на N-1, где N - число наблюдений.\n",
    "a_centered_sp = 0\n",
    "for i in range(len(a_centered)):\n",
    "    a_centered_sp += a_centered[i, 0] * a_centered[i, 1]\n",
    "print(a_centered_sp / 4)"
   ]
  },
  {
   "cell_type": "code",
   "execution_count": 57,
   "metadata": {},
   "outputs": [
    {
     "name": "stdout",
     "output_type": "stream",
     "text": [
      "[[ 1  6]\n",
      " [ 2  8]\n",
      " [ 3 11]\n",
      " [ 3 10]\n",
      " [ 1  7]]\n",
      "[[12.5 15.  20.  17.5 15. ]\n",
      " [15.  18.  24.  21.  18. ]\n",
      " [20.  24.  32.  28.  24. ]\n",
      " [17.5 21.  28.  24.5 21. ]\n",
      " [15.  18.  24.  21.  18. ]]\n"
     ]
    }
   ],
   "source": [
    "at = a.transpose()\n",
    "print(a)\n",
    "\n",
    "c = np.cov(a)\n",
    "print(c)"
   ]
  }
 ],
 "metadata": {
  "kernelspec": {
   "display_name": "Python 3",
   "language": "python",
   "name": "python3"
  },
  "language_info": {
   "codemirror_mode": {
    "name": "ipython",
    "version": 3
   },
   "file_extension": ".py",
   "mimetype": "text/x-python",
   "name": "python",
   "nbconvert_exporter": "python",
   "pygments_lexer": "ipython3",
   "version": "3.7.2"
  }
 },
 "nbformat": 4,
 "nbformat_minor": 1
}
